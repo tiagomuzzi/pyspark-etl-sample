{
 "cells": [
  {
   "cell_type": "markdown",
   "id": "9df844cd",
   "metadata": {},
   "source": [
    "Imports dependencies"
   ]
  },
  {
   "cell_type": "code",
   "execution_count": 1,
   "id": "e4d28fb8",
   "metadata": {},
   "outputs": [],
   "source": [
    "import app_events.sparksession as S\n",
    "import app_events.transformations as T"
   ]
  },
  {
   "cell_type": "code",
   "execution_count": 2,
   "metadata": {},
   "outputs": [],
   "source": [
    "OUTPUT_DIR = '.outputs'"
   ]
  },
  {
   "cell_type": "markdown",
   "id": "cf504c8f",
   "metadata": {},
   "source": [
    "Load events from JSON file"
   ]
  },
  {
   "cell_type": "code",
   "execution_count": 3,
   "metadata": {},
   "outputs": [],
   "source": [
    "events = S.spark.read\\\n",
    "    .option(\"inferSchema\",\"true\")\\\n",
    "    .json('datasets/events.json')"
   ]
  },
  {
   "source": [
    "Prepare & clean events dataset"
   ],
   "cell_type": "markdown",
   "metadata": {}
  },
  {
   "cell_type": "code",
   "execution_count": 4,
   "id": "b50c95da",
   "metadata": {},
   "outputs": [
    {
     "output_type": "stream",
     "name": "stdout",
     "text": [
      "152041\nroot\n |-- browser_version: string (nullable = true)\n |-- campaign: string (nullable = true)\n |-- channel: string (nullable = true)\n |-- device_type: string (nullable = true)\n |-- event: string (nullable = true)\n |-- initiator_id: long (nullable = true)\n |-- timestamp: timestamp (nullable = true)\n |-- year_week: integer (nullable = true)\n\n"
     ]
    }
   ],
   "source": [
    "prepared = T.prepare_events(events)\\\n",
    "\n",
    "prepared_path = f'{OUTPUT_DIR}/datasets/events/'\n",
    "\n",
    "prepared.write.partitionBy('event')\\\n",
    "    .mode(\"overwrite\")\\\n",
    "    .parquet(prepared_path)\n",
    "\n",
    "print(prepared.count())\n",
    "prepared.printSchema()"
   ]
  },
  {
   "cell_type": "raw",
   "id": "414bce16",
   "metadata": {},
   "source": [
    "print(source_df)"
   ]
  },
  {
   "source": [
    "Create dataset for `registered` events only"
   ],
   "cell_type": "markdown",
   "metadata": {}
  },
  {
   "cell_type": "code",
   "execution_count": 5,
   "id": "62d8526b",
   "metadata": {},
   "outputs": [
    {
     "output_type": "stream",
     "name": "stdout",
     "text": [
      "7317\nroot\n |-- year_week: integer (nullable = true)\n |-- initiator_id: long (nullable = true)\n\n"
     ]
    }
   ],
   "source": [
    "registered = T.get_event_partition(S.spark, prepared_path, 'registered')\n",
    "\n",
    "print(registered.count())\n",
    "registered.printSchema()"
   ]
  },
  {
   "source": [
    "Create dataset for `app_loaded` events only"
   ],
   "cell_type": "markdown",
   "metadata": {}
  },
  {
   "cell_type": "code",
   "execution_count": 6,
   "id": "a93297ae",
   "metadata": {},
   "outputs": [
    {
     "output_type": "stream",
     "name": "stdout",
     "text": [
      "144724\nroot\n |-- year_week: integer (nullable = true)\n |-- initiator_id: long (nullable = true)\n\n"
     ]
    }
   ],
   "source": [
    "app_loaded = T.get_event_partition(S.spark, prepared_path, 'app_loaded')\n",
    "print(app_loaded.count())\n",
    "app_loaded.printSchema()"
   ]
  },
  {
   "source": [
    "Joins datasets over same `id`"
   ],
   "cell_type": "markdown",
   "metadata": {}
  },
  {
   "cell_type": "code",
   "execution_count": 7,
   "metadata": {},
   "outputs": [
    {
     "output_type": "stream",
     "name": "stdout",
     "text": [
      "2051\nroot\n |-- id: long (nullable = true)\n |-- registered_at: integer (nullable = true)\n |-- app_loaded_at: integer (nullable = true)\n\n"
     ]
    }
   ],
   "source": [
    "\n",
    "joined = T.join_tables(registered, app_loaded)\n",
    "\n",
    "print(joined.count())\n",
    "joined.printSchema()"
   ]
  },
  {
   "source": [
    "Filters joined dataset"
   ],
   "cell_type": "markdown",
   "metadata": {}
  },
  {
   "cell_type": "code",
   "execution_count": 8,
   "metadata": {},
   "outputs": [
    {
     "output_type": "stream",
     "name": "stdout",
     "text": [
      "2051\nroot\n |-- id: long (nullable = true)\n |-- is_active: boolean (nullable = true)\n\n"
     ]
    }
   ],
   "source": [
    "with_activity = T.add_activity(joined)\n",
    "\n",
    "print(with_activity.count())\n",
    "with_activity.printSchema()"
   ]
  },
  {
   "source": [
    "Creates dataset showing the amount of `unique_ids` for each status of `is_active`"
   ],
   "cell_type": "markdown",
   "metadata": {}
  },
  {
   "cell_type": "code",
   "execution_count": 9,
   "metadata": {},
   "outputs": [
    {
     "output_type": "stream",
     "name": "stdout",
     "text": [
      "+---------+----------+\n|is_active|unique_ids|\n+---------+----------+\n|     true|       800|\n|    false|      1251|\n+---------+----------+\n\n"
     ]
    }
   ],
   "source": [
    "uniques_activity = T.uniques_activity(with_activity)\n",
    "\n",
    "uniques_activity.show()"
   ]
  },
  {
   "source": [
    "Adds `percent` column to dataset"
   ],
   "cell_type": "markdown",
   "metadata": {}
  },
  {
   "cell_type": "code",
   "execution_count": 10,
   "metadata": {},
   "outputs": [
    {
     "output_type": "stream",
     "name": "stdout",
     "text": [
      "+---------+----------+------------------+\n|is_active|unique_ids|           percent|\n+---------+----------+------------------+\n|     true|       800|0.3900536323744515|\n|    false|      1251|0.6099463676255485|\n+---------+----------+------------------+\n\n"
     ]
    }
   ],
   "source": [
    "with_percent = T.add_percent(uniques_activity)\n",
    "\n",
    "with_percent.show()"
   ]
  },
  {
   "cell_type": "code",
   "execution_count": null,
   "metadata": {},
   "outputs": [],
   "source": []
  }
 ],
 "metadata": {
  "kernelspec": {
   "display_name": "Python 3",
   "language": "python",
   "name": "python3"
  }
 },
 "nbformat": 4,
 "nbformat_minor": 5
}